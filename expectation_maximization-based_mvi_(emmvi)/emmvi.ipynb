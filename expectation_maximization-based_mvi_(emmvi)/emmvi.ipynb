{
 "cells": [
  {
   "cell_type": "code",
   "execution_count": 2,
   "metadata": {},
   "outputs": [],
   "source": [
    "#LIBRARIES TO BE USED\n",
    "\n",
    "import pandas as pd\n",
    "import numpy as np\n",
    "import seaborn as sns\n",
    "import matplotlib.pyplot as plt\n",
    "from sklearn.metrics import mean_absolute_error, mean_squared_error, r2_score\n"
   ]
  },
  {
   "cell_type": "code",
   "execution_count": null,
   "metadata": {},
   "outputs": [],
   "source": [
    "#IMPORT DATASETS\n",
    "\n",
    "df_90_path = \"/_datasets/google_trend_pinhao_90percent.csv\"\n",
    "df_90 = pd.read_csv(df_90_path)\n",
    "\n",
    "df_original_path = \"/_datasets/google_trend_pinhao_original.csv\"\n",
    "df_original = pd.read_csv(df_original_path)"
   ]
  },
  {
   "cell_type": "code",
   "execution_count": null,
   "metadata": {},
   "outputs": [],
   "source": [
    "#APPLICATION OF THE METHOD\n",
    "\n",
    "df_90_emmvi = df_90.copy() #Create a new database that will be manipulated by the method.\n",
    "\n",
    "# Aplicar o método de imputação EMMVI em df_90_emmvi\n",
    "\n",
    "\n",
    "def expectation_maximization_mvi(df):\n",
    "    # Copiar o dataframe original para evitar alterações indesejadas\n",
    "    df_imputed = df.copy()\n",
    "    \n",
    "    # Loop para percorrer cada instância da coluna \"Pinhao: (Parana)\"\n",
    "    for i, value in enumerate(df_imputed[\"Pinhao: (Parana)\"]):\n",
    "        # Verificar se o valor é NaN (dados faltantes)\n",
    "        if np.isnan(value):\n",
    "            # Implementar o processo de imputação aqui\n",
    "            # Por exemplo, supondo que o método EMMVI substitua os valores faltantes pela média da coluna\n",
    "            mean_value = np.mean(df_imputed[\"Pinhao: (Parana)\"].dropna())\n",
    "            df_imputed[\"Pinhao: (Parana)\"][i] = mean_value\n",
    "    \n",
    "    return df_imputed\n",
    "\n",
    "# Aplicar o método EMMVI ao dataframe df_90_emmvi\n",
    "df_90_emmvi = expectation_maximization_mvi(df_90_emmvi)"
   ]
  },
  {
   "cell_type": "code",
   "execution_count": null,
   "metadata": {},
   "outputs": [],
   "source": [
    "#CALCULATE PERFORMANCE INDEXES/METRICS\n",
    "\n",
    "mae = mean_absolute_error(df_original[\"Pinhao: (Parana)\"], df_90_emmvi[\"Pinhao: (Parana)\"])\n",
    "mse = mean_squared_error(df_original[\"Pinhao: (Parana)\"], df_90_emmvi[\"Pinhao: (Parana)\"])\n",
    "r2 = r2_score(df_original[\"Pinhao: (Parana)\"], df_90_emmvi[\"Pinhao: (Parana)\"])\n",
    "\n",
    "#CALCULATE HOW MANY IMPUTATION DATA ARE RIGHT\n",
    "threshold = 0.1  # Definir o limite para considerar uma imputação como \"acerto\"\n",
    "accuracy = np.mean(np.abs(df_90_emmvi[\"Pinhao: (Parana)\"] - df_original[\"Pinhao: (Parana)\"]) <= threshold)\n"
   ]
  },
  {
   "cell_type": "code",
   "execution_count": null,
   "metadata": {},
   "outputs": [],
   "source": [
    "#EXPORT PERFORMANCE INDEXES/METRICS TO A LOG FILE\n",
    "results_path = \"/mvi/_results/results.xlsx\"\n",
    "results_df = pd.DataFrame({\n",
    "    \"Data e Hora\": [datetime.now()],\n",
    "    \"Dataframe\": [\"df_90_emmvi\"],\n",
    "    \"MAE\": [mae],\n",
    "    \"MSE\": [mse],\n",
    "    \"R2\": [r2],\n",
    "    \"Accuracy\": [accuracy]\n",
    "})\n",
    "results_df.to_excel(results_path, index=False, mode=\"a\", header=not results_path.exists())\n"
   ]
  },
  {
   "cell_type": "code",
   "execution_count": null,
   "metadata": {},
   "outputs": [],
   "source": [
    "#SCATTERPLOT BETWEEN ORIGINAL DATASET AND IMPUTED DATAFRAME\n",
    "sns.set(style=\"whitegrid\")\n",
    "sns.scatterplot(data=df_original, x=\"Mes\", y=\"Pinhao: (Parana)\", color=\"lightgreen\", label=\"Valores reais\")\n",
    "sns.scatterplot(data=df_90_emmvi, x=\"Mes\", y=\"Pinhao: (Parana)\", color=\"green\", label=\"EMMVI\")\n",
    "sns.regplot(data=df_90_emmvi, x=\"Mes\", y=\"Pinhao: (Parana)\", color=\"darkgreen\", scatter=False)\n",
    "plt.xlabel(\"Mês\")\n",
    "plt.ylabel(\"Pinhao: (Parana)\")\n",
    "plt.title(\"Comparação EMMVI vs Valores Reais\")\n",
    "plt.legend()\n",
    "plt.show()"
   ]
  },
  {
   "cell_type": "code",
   "execution_count": null,
   "metadata": {},
   "outputs": [],
   "source": [
    "#EXPORT CHAT\n",
    "plot_filename = f\"/mvi/_results/{df_90_emmvi}_scatterplot_{datetime.now().strftime('%Y%m%d%H%M%S')}.jpg\"\n",
    "plt.savefig(plot_filename)\n",
    "plt.close()"
   ]
  }
 ],
 "metadata": {
  "kernelspec": {
   "display_name": "base",
   "language": "python",
   "name": "python3"
  },
  "language_info": {
   "codemirror_mode": {
    "name": "ipython",
    "version": 3
   },
   "file_extension": ".py",
   "mimetype": "text/x-python",
   "name": "python",
   "nbconvert_exporter": "python",
   "pygments_lexer": "ipython3",
   "version": "3.9.13"
  },
  "orig_nbformat": 4
 },
 "nbformat": 4,
 "nbformat_minor": 2
}
